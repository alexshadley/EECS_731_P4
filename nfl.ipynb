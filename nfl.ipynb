{
 "cells": [
  {
   "cell_type": "code",
   "execution_count": 1,
   "metadata": {},
   "outputs": [],
   "source": [
    "import pandas as pd\n",
    "from sklearn.linear_model import LinearRegression\n",
    "from sklearn.ensemble import RandomForestRegressor, GradientBoostingRegressor\n",
    "from sklearn.neural_network import MLPRegressor"
   ]
  },
  {
   "cell_type": "markdown",
   "metadata": {},
   "source": [
    "Since I want to test a bunch of models out, I made this function to automate the process of training and reporting accuracy.  This is possible because sklearn provides a very consistent api for regression models.  Yay duck typing!  A couple things to note:\n",
    "\n",
    "Two separate models are trained, one for each team's score.  Many sklearn models do support regression on multiple values, but some do not.  For those that do, combining does not seem to improve performance much anyways, so not much is lost here.\n",
    "\n",
    "Data is separated into a pre-2015 training set and 2015-onwards test set.  I think this is more compelling than pulling the test set randomly over the entire history of seasons, since predicting future games is a much more realistic application for such a regression.\n",
    "\n",
    "Scores are reported in two ways, first as a coefficient R^2, then as a percent of games predicted within 7 points.  The percent of games within 7 points is included because it gives a more intuitive sense of how well our predictions are working."
   ]
  },
  {
   "cell_type": "code",
   "execution_count": 2,
   "metadata": {},
   "outputs": [],
   "source": [
    "def run_model(model_name, model_factory, data, x_cols):\n",
    "    historic_nfl = data.query('season < 2015')\n",
    "\n",
    "    X_train = historic_nfl[x_cols]\n",
    "    Y1_train = historic_nfl['score1']\n",
    "    Y2_train = historic_nfl['score2']\n",
    "\n",
    "    current_nfl = data.query('season >= 2015')\n",
    "\n",
    "    X_test = current_nfl[x_cols]\n",
    "    Y1_test = current_nfl['score1']\n",
    "    Y2_test = current_nfl['score2']\n",
    "    \n",
    "    lr1 = model_factory()\n",
    "    lr1.fit(X_train, Y1_train)\n",
    "    acc1 = lr1.score(X_test, Y1_test)\n",
    "\n",
    "    lr2 = model_factory()\n",
    "    lr2.fit(X_train, Y2_train)\n",
    "    acc2 = lr2.score(X_test, Y2_test)\n",
    "    \n",
    "    close = 0\n",
    "    preds1 = lr1.predict(X_test)\n",
    "    preds2 = lr2.predict(X_test)\n",
    "    for actual, pred in zip(data['score1'], preds1):\n",
    "        if abs(actual - pred) <= 7:\n",
    "            close += 1\n",
    "    \n",
    "    for actual, pred in zip(data['score2'], preds2):\n",
    "        if abs(actual - pred) <= 7:\n",
    "            close += 1\n",
    "    \n",
    "    \n",
    "    print(model_name)\n",
    "    print('=======================')\n",
    "    print(f'Model score on score1: {acc1}')\n",
    "    print(f'Model score on score2: {acc2}')\n",
    "    print(f'Percent of predictions within 7 points of actual: {close / (2 * len(X_test))}')\n",
    "    print()"
   ]
  },
  {
   "cell_type": "markdown",
   "metadata": {},
   "source": [
    "# Data Exploration\n",
    "\n",
    "From the first glance at the data, some things to note:\n",
    "* the home-field team is 'team1'.  If a homefield advantage exists, our models should be able to use this\n",
    "* date looks like it could be useful if combined with other datasets, but maybe not right now\n",
    "* ties are possible, denoted as a '0.5' in result1"
   ]
  },
  {
   "cell_type": "code",
   "execution_count": 3,
   "metadata": {},
   "outputs": [
    {
     "data": {
      "text/html": [
       "<div>\n",
       "<style scoped>\n",
       "    .dataframe tbody tr th:only-of-type {\n",
       "        vertical-align: middle;\n",
       "    }\n",
       "\n",
       "    .dataframe tbody tr th {\n",
       "        vertical-align: top;\n",
       "    }\n",
       "\n",
       "    .dataframe thead th {\n",
       "        text-align: right;\n",
       "    }\n",
       "</style>\n",
       "<table border=\"1\" class=\"dataframe\">\n",
       "  <thead>\n",
       "    <tr style=\"text-align: right;\">\n",
       "      <th></th>\n",
       "      <th>date</th>\n",
       "      <th>season</th>\n",
       "      <th>neutral</th>\n",
       "      <th>playoff</th>\n",
       "      <th>team1</th>\n",
       "      <th>team2</th>\n",
       "      <th>elo1</th>\n",
       "      <th>elo2</th>\n",
       "      <th>elo_prob1</th>\n",
       "      <th>score1</th>\n",
       "      <th>score2</th>\n",
       "      <th>result1</th>\n",
       "    </tr>\n",
       "  </thead>\n",
       "  <tbody>\n",
       "    <tr>\n",
       "      <th>0</th>\n",
       "      <td>1920-09-26</td>\n",
       "      <td>1920</td>\n",
       "      <td>0</td>\n",
       "      <td>0</td>\n",
       "      <td>RII</td>\n",
       "      <td>STP</td>\n",
       "      <td>1503.947</td>\n",
       "      <td>1300.000</td>\n",
       "      <td>0.824651</td>\n",
       "      <td>48</td>\n",
       "      <td>0</td>\n",
       "      <td>1.0</td>\n",
       "    </tr>\n",
       "    <tr>\n",
       "      <th>1</th>\n",
       "      <td>1920-10-03</td>\n",
       "      <td>1920</td>\n",
       "      <td>0</td>\n",
       "      <td>0</td>\n",
       "      <td>AKR</td>\n",
       "      <td>WHE</td>\n",
       "      <td>1503.420</td>\n",
       "      <td>1300.000</td>\n",
       "      <td>0.824212</td>\n",
       "      <td>43</td>\n",
       "      <td>0</td>\n",
       "      <td>1.0</td>\n",
       "    </tr>\n",
       "    <tr>\n",
       "      <th>2</th>\n",
       "      <td>1920-10-03</td>\n",
       "      <td>1920</td>\n",
       "      <td>0</td>\n",
       "      <td>0</td>\n",
       "      <td>RCH</td>\n",
       "      <td>ABU</td>\n",
       "      <td>1503.420</td>\n",
       "      <td>1300.000</td>\n",
       "      <td>0.824212</td>\n",
       "      <td>10</td>\n",
       "      <td>0</td>\n",
       "      <td>1.0</td>\n",
       "    </tr>\n",
       "    <tr>\n",
       "      <th>3</th>\n",
       "      <td>1920-10-03</td>\n",
       "      <td>1920</td>\n",
       "      <td>0</td>\n",
       "      <td>0</td>\n",
       "      <td>DAY</td>\n",
       "      <td>COL</td>\n",
       "      <td>1493.002</td>\n",
       "      <td>1504.908</td>\n",
       "      <td>0.575819</td>\n",
       "      <td>14</td>\n",
       "      <td>0</td>\n",
       "      <td>1.0</td>\n",
       "    </tr>\n",
       "    <tr>\n",
       "      <th>4</th>\n",
       "      <td>1920-10-03</td>\n",
       "      <td>1920</td>\n",
       "      <td>0</td>\n",
       "      <td>0</td>\n",
       "      <td>RII</td>\n",
       "      <td>MUN</td>\n",
       "      <td>1516.108</td>\n",
       "      <td>1478.004</td>\n",
       "      <td>0.644171</td>\n",
       "      <td>45</td>\n",
       "      <td>0</td>\n",
       "      <td>1.0</td>\n",
       "    </tr>\n",
       "  </tbody>\n",
       "</table>\n",
       "</div>"
      ],
      "text/plain": [
       "         date  season  neutral  playoff team1 team2      elo1      elo2  \\\n",
       "0  1920-09-26    1920        0        0   RII   STP  1503.947  1300.000   \n",
       "1  1920-10-03    1920        0        0   AKR   WHE  1503.420  1300.000   \n",
       "2  1920-10-03    1920        0        0   RCH   ABU  1503.420  1300.000   \n",
       "3  1920-10-03    1920        0        0   DAY   COL  1493.002  1504.908   \n",
       "4  1920-10-03    1920        0        0   RII   MUN  1516.108  1478.004   \n",
       "\n",
       "   elo_prob1  score1  score2  result1  \n",
       "0   0.824651      48       0      1.0  \n",
       "1   0.824212      43       0      1.0  \n",
       "2   0.824212      10       0      1.0  \n",
       "3   0.575819      14       0      1.0  \n",
       "4   0.644171      45       0      1.0  "
      ]
     },
     "execution_count": 3,
     "metadata": {},
     "output_type": "execute_result"
    }
   ],
   "source": [
    "nfl_data = pd.read_csv('data/nfl_games.csv')\n",
    "nfl_data.head()"
   ]
  },
  {
   "cell_type": "markdown",
   "metadata": {},
   "source": [
    "A definite, if messy correlation between elo and score exists.  Good sign that we may have some success doing regression on this data point."
   ]
  },
  {
   "cell_type": "code",
   "execution_count": 4,
   "metadata": {},
   "outputs": [
    {
     "data": {
      "text/plain": [
       "<matplotlib.axes._subplots.AxesSubplot at 0x7f397d5576a0>"
      ]
     },
     "execution_count": 4,
     "metadata": {},
     "output_type": "execute_result"
    },
    {
     "data": {
      "image/png": "[encoded data removed]",
      "text/plain": [
       "<Figure size 432x288 with 1 Axes>"
      ]
     },
     "metadata": {
      "needs_background": "light"
     },
     "output_type": "display_data"
    }
   ],
   "source": [
    "nfl_data.plot.scatter(x='elo_prob1', y='score1')"
   ]
  },
  {
   "cell_type": "markdown",
   "metadata": {},
   "source": [
    "This chart helps give some insights into the tricky nature of our data.  The distribution of football scores tend to be defined by increments of 3 and 7, a fact almost certainly lost on any regression model we might attempt to use."
   ]
  },
  {
   "cell_type": "code",
   "execution_count": 5,
   "metadata": {},
   "outputs": [
    {
     "data": {
      "text/plain": [
       "<matplotlib.axes._subplots.AxesSubplot at 0x7f397b26b390>"
      ]
     },
     "execution_count": 5,
     "metadata": {},
     "output_type": "execute_result"
    },
    {
     "data": {
      "image/png": "[encoded data removed]",
      "text/plain": [
       "<Figure size 432x288 with 1 Axes>"
      ]
     },
     "metadata": {
      "needs_background": "light"
     },
     "output_type": "display_data"
    }
   ],
   "source": [
    "nfl_data.plot.scatter(x='score1', y='score2')"
   ]
  },
  {
   "cell_type": "markdown",
   "metadata": {},
   "source": [
    "Interestingly, this chart makes the case for including season in the regression -- scores can be clearly seen to vary over time.  There are a number of reasons why this could be the case: changes in rules, evolution of training techniques, etc."
   ]
  },
  {
   "cell_type": "code",
   "execution_count": 6,
   "metadata": {},
   "outputs": [
    {
     "data": {
      "text/plain": [
       "<matplotlib.axes._subplots.AxesSubplot at 0x7f397ab84f60>"
      ]
     },
     "execution_count": 6,
     "metadata": {},
     "output_type": "execute_result"
    },
    {
     "data": {
      "image/png": "[encoded data removed]",
      "text/plain": [
       "<Figure size 432x288 with 1 Axes>"
      ]
     },
     "metadata": {
      "needs_background": "light"
     },
     "output_type": "display_data"
    }
   ],
   "source": [
    "nfl_data.plot.scatter(x='season', y='score1')"
   ]
  },
  {
   "cell_type": "markdown",
   "metadata": {},
   "source": [
    "# Models\n",
    "\n",
    "To get a baseline, we'll do some regression without any feature engineering.  Pretty much all of the data is included, with the exception of date and teams (more on that later).  A bit on the models I used:\n",
    "\n",
    "* Linear Regression is a classic, and blazing fast.  I like to use it as a baseline of what's possible, and it actually performs pretty well on this data.\n",
    "* Random Forests have given me good results in the past, and also work very quickly.\n",
    "* Gradient Boosting is a little more experiemental for me, but seems to produce good R^2 values even if it takes a bit longer to do so.\n",
    "\n",
    "The results are decent, with some models clearly performing better than others.  Interestingly, while the Random Forest has the worst R^2 value, it actually predicts more games within 7 points than the other models.\n",
    "\n",
    "I originally also ran a neural network alongside the other three, but it produced awful results and ran for about ten times as long as the others."
   ]
  },
  {
   "cell_type": "code",
   "execution_count": 7,
   "metadata": {},
   "outputs": [
    {
     "name": "stdout",
     "output_type": "stream",
     "text": [
      "Linear Regression\n",
      "=======================\n",
      "Model score on score1: 0.31382817953038944\n",
      "Model score on score2: 0.26983191411124274\n",
      "Percent of predictions within 7 points of actual: 0.16432584269662923\n",
      "\n"
     ]
    },
    {
     "name": "stderr",
     "output_type": "stream",
     "text": [
      "/home/alex/EECS_731/p4/data/.venv/lib/python3.6/site-packages/sklearn/ensemble/forest.py:245: FutureWarning: The default value of n_estimators will change from 10 in version 0.20 to 100 in 0.22.\n",
      "  \"10 in version 0.20 to 100 in 0.22.\", FutureWarning)\n",
      "/home/alex/EECS_731/p4/data/.venv/lib/python3.6/site-packages/sklearn/ensemble/forest.py:245: FutureWarning: The default value of n_estimators will change from 10 in version 0.20 to 100 in 0.22.\n",
      "  \"10 in version 0.20 to 100 in 0.22.\", FutureWarning)\n"
     ]
    },
    {
     "name": "stdout",
     "output_type": "stream",
     "text": [
      "Random Forest\n",
      "=======================\n",
      "Model score on score1: 0.18308168295592775\n",
      "Model score on score2: 0.15262836519773393\n",
      "Percent of predictions within 7 points of actual: 0.18773408239700373\n",
      "\n",
      "Gradient Boosting\n",
      "=======================\n",
      "Model score on score1: 0.3218172512535998\n",
      "Model score on score2: 0.2823022831930746\n",
      "Percent of predictions within 7 points of actual: 0.17228464419475656\n",
      "\n"
     ]
    }
   ],
   "source": [
    "run_model('Linear Regression', LinearRegression, nfl_data, ['season', 'neutral', 'playoff', 'elo1', 'elo2', 'elo_prob1', 'result1'])\n",
    "run_model('Random Forest', RandomForestRegressor, nfl_data, ['season', 'neutral', 'playoff', 'elo1', 'elo2', 'elo_prob1', 'result1'])\n",
    "run_model('Gradient Boosting', GradientBoostingRegressor, nfl_data, ['season', 'neutral', 'playoff', 'elo1', 'elo2', 'elo_prob1', 'result1'])"
   ]
  },
  {
   "cell_type": "markdown",
   "metadata": {},
   "source": [
    "# Feature Engineering\n",
    "\n",
    "There's one very obvious omission from our first attempt: we're not doing anything with our team data.  It makes sense that some teams are better than others at offense or defense, and that some teams are particularly good or bad at playing certain other teams.  Let's do a one-hot encoding of our team data and add that to the dataset."
   ]
  },
  {
   "cell_type": "code",
   "execution_count": 8,
   "metadata": {},
   "outputs": [],
   "source": [
    "onehot_team1 = pd.get_dummies(nfl_data['team1'], prefix='team1', sparse=True)\n",
    "onehot_team2 = pd.get_dummies(nfl_data['team2'], prefix='team2', sparse=True)\n",
    "nfl_data_teams = pd.concat([nfl_data, onehot_team1, onehot_team2], axis=1)\n",
    "\n",
    "team_cols = list(onehot_team1.columns) + list(onehot_team2.columns)"
   ]
  },
  {
   "cell_type": "markdown",
   "metadata": {},
   "source": [
    "Good!  It looks like adding team data afforded modest returns.  Interestingly, it looks as though the biggest improvements were in the R^2 values, not in the within-7 percent.  Perhaps this means that adding team data cut down mostly on severely inaccurate predictions."
   ]
  },
  {
   "cell_type": "code",
   "execution_count": 9,
   "metadata": {},
   "outputs": [
    {
     "name": "stdout",
     "output_type": "stream",
     "text": [
      "Linear Regression\n",
      "=======================\n",
      "Model score on score1: 0.3046805605749244\n",
      "Model score on score2: 0.2675299505087375\n",
      "Percent of predictions within 7 points of actual: 0.18164794007490637\n",
      "\n"
     ]
    },
    {
     "name": "stderr",
     "output_type": "stream",
     "text": [
      "/home/alex/EECS_731/p4/data/.venv/lib/python3.6/site-packages/sklearn/ensemble/forest.py:245: FutureWarning: The default value of n_estimators will change from 10 in version 0.20 to 100 in 0.22.\n",
      "  \"10 in version 0.20 to 100 in 0.22.\", FutureWarning)\n",
      "/home/alex/EECS_731/p4/data/.venv/lib/python3.6/site-packages/sklearn/ensemble/forest.py:245: FutureWarning: The default value of n_estimators will change from 10 in version 0.20 to 100 in 0.22.\n",
      "  \"10 in version 0.20 to 100 in 0.22.\", FutureWarning)\n"
     ]
    },
    {
     "name": "stdout",
     "output_type": "stream",
     "text": [
      "Random Forest\n",
      "=======================\n",
      "Model score on score1: 0.22037019333784957\n",
      "Model score on score2: 0.17311524598949202\n",
      "Percent of predictions within 7 points of actual: 0.18679775280898878\n",
      "\n",
      "Gradient Boost\n",
      "=======================\n",
      "Model score on score1: 0.3300580201155243\n",
      "Model score on score2: 0.2863057308776814\n",
      "Percent of predictions within 7 points of actual: 0.17368913857677903\n",
      "\n"
     ]
    }
   ],
   "source": [
    "train_cols = ['season', 'neutral', 'playoff', 'elo1', 'elo2', 'elo_prob1', 'result1'] + team_cols\n",
    "run_model('Linear Regression', LinearRegression, nfl_data_teams, train_cols)\n",
    "run_model('Random Forest', RandomForestRegressor, nfl_data_teams, train_cols)\n",
    "run_model('Gradient Boost', GradientBoostingRegressor, nfl_data_teams, train_cols)"
   ]
  },
  {
   "cell_type": "markdown",
   "metadata": {},
   "source": [
    "What else might be helpful?  One possiblility is how long of a winning streak each team is on going into each game.  Perhaps teams on a hot streak are more likely to be high-scoring.  For this analysis we ignore ties, leaving the streak status of each team unchanged."
   ]
  },
  {
   "cell_type": "markdown",
   "metadata": {},
   "source": [
    "\n",
    "\n"
   ]
  },
  {
   "cell_type": "code",
   "execution_count": 10,
   "metadata": {},
   "outputs": [],
   "source": [
    "streaks = {team: 0 for team in nfl_data['team1'].append(nfl_data['team2']).unique()}\n",
    "\n",
    "frames = []\n",
    "for _, row in nfl_data.iterrows():\n",
    "    frames.append(\n",
    "        pd.DataFrame({'team1_streak': [streaks[row['team1']]], 'team2_streak': [streaks[row['team2']]]})\n",
    "    )\n",
    "    \n",
    "    if row['result1'] == 1.0:\n",
    "        streaks[row['team1']] += 1\n",
    "        streaks[row['team2']] = 0\n",
    "    elif row['result1'] == 0.0:\n",
    "        streaks[row['team1']] = 0\n",
    "        streaks[row['team2']] += 1\n",
    "\n",
    "team_streaks = pd.concat(frames, ignore_index=True)"
   ]
  },
  {
   "cell_type": "code",
   "execution_count": 11,
   "metadata": {},
   "outputs": [],
   "source": [
    "nfl_data_streaks = pd.concat([nfl_data_teams, team_streaks], axis=1)"
   ]
  },
  {
   "cell_type": "markdown",
   "metadata": {},
   "source": [
    "Hmm, it's ambiguous if adding streaks really improved anything.  Some numbers got better, others got worse.  It's worth noting that streak numbers don't reset at the end of each season, and this may be adding noise.  Computing losing streaks may also return results."
   ]
  },
  {
   "cell_type": "code",
   "execution_count": 12,
   "metadata": {},
   "outputs": [
    {
     "name": "stdout",
     "output_type": "stream",
     "text": [
      "Linear Regression\n",
      "=======================\n",
      "Model score on score1: 0.30348582875903063\n",
      "Model score on score2: 0.2674910226385758\n",
      "Percent of predictions within 7 points of actual: 0.18164794007490637\n",
      "\n"
     ]
    },
    {
     "name": "stderr",
     "output_type": "stream",
     "text": [
      "/home/alex/EECS_731/p4/data/.venv/lib/python3.6/site-packages/sklearn/ensemble/forest.py:245: FutureWarning: The default value of n_estimators will change from 10 in version 0.20 to 100 in 0.22.\n",
      "  \"10 in version 0.20 to 100 in 0.22.\", FutureWarning)\n",
      "/home/alex/EECS_731/p4/data/.venv/lib/python3.6/site-packages/sklearn/ensemble/forest.py:245: FutureWarning: The default value of n_estimators will change from 10 in version 0.20 to 100 in 0.22.\n",
      "  \"10 in version 0.20 to 100 in 0.22.\", FutureWarning)\n"
     ]
    },
    {
     "name": "stdout",
     "output_type": "stream",
     "text": [
      "Random Forest\n",
      "=======================\n",
      "Model score on score1: 0.19852520358333092\n",
      "Model score on score2: 0.20421208792440726\n",
      "Percent of predictions within 7 points of actual: 0.17743445692883894\n",
      "\n",
      "Gradient Boost\n",
      "=======================\n",
      "Model score on score1: 0.32790443126153423\n",
      "Model score on score2: 0.28434879120086487\n",
      "Percent of predictions within 7 points of actual: 0.17415730337078653\n",
      "\n"
     ]
    }
   ],
   "source": [
    "train_cols = ['season', 'neutral', 'playoff', 'elo1', 'elo2', 'elo_prob1', 'result1', 'team1_streak', 'team2_streak'] + team_cols\n",
    "run_model('Linear Regression', LinearRegression, nfl_data_streaks, train_cols)\n",
    "run_model('Random Forest', RandomForestRegressor, nfl_data_streaks, train_cols)\n",
    "run_model('Gradient Boost', GradientBoostingRegressor, nfl_data_streaks, train_cols)"
   ]
  },
  {
   "cell_type": "markdown",
   "metadata": {},
   "source": [
    "# Conclusion\n",
    "\n",
    "The results of our regression are ok, but not stellar.  The best performer seems to be the Random Forest, which predicts about 18% of games within 7 points of the actual score.  Feature engineering returned modest results, but I'm left feeling as though there was something better hiding in the data.\n",
    "\n",
    "Another interesting approach could be combining this data with historical weather data.  Temperature and precipitation likely play a major role in how many points are scored during a game, since football is generally played outdoors."
   ]
  }
 ],
 "metadata": {
  "kernelspec": {
   "display_name": "Python 3",
   "language": "python",
   "name": "python3"
  },
  "language_info": {
   "codemirror_mode": {
    "name": "ipython",
    "version": 3
   },
   "file_extension": ".py",
   "mimetype": "text/x-python",
   "name": "python",
   "nbconvert_exporter": "python",
   "pygments_lexer": "ipython3",
   "version": "3.6.9"
  }
 },
 "nbformat": 4,
 "nbformat_minor": 2
}
